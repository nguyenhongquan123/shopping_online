{
 "cells": [
  {
   "cell_type": "code",
   "execution_count": 10,
   "metadata": {},
   "outputs": [],
   "source": [
    "from celery import task"
   ]
  },
  {
   "cell_type": "code",
   "execution_count": 12,
   "metadata": {},
   "outputs": [],
   "source": [
    "@task\n",
    "def ahi():\n",
    "    print(\"con cac\")"
   ]
  },
  {
   "cell_type": "code",
   "execution_count": null,
   "metadata": {},
   "outputs": [],
   "source": [
    "for i in range(100):\n",
    "    print(i)\n",
    "    if i==10:\n",
    "       ahi.delay() "
   ]
  },
  {
   "cell_type": "code",
   "execution_count": 6,
   "metadata": {},
   "outputs": [
    {
     "name": "stdout",
     "output_type": "stream",
     "text": [
      "V\n"
     ]
    }
   ],
   "source": [
    "x=r.zrange('1number1',0,-1)\n",
    "if x==[]:\n",
    "    print(\"V\")"
   ]
  },
  {
   "cell_type": "code",
   "execution_count": 15,
   "metadata": {},
   "outputs": [
    {
     "data": {
      "text/plain": [
       "5.0"
      ]
     },
     "execution_count": 15,
     "metadata": {},
     "output_type": "execute_result"
    }
   ],
   "source": [
    "# r.zrange('number1',0,-1)\n",
    "r.zincrby('number1',4,'1')"
   ]
  },
  {
   "cell_type": "code",
   "execution_count": 32,
   "metadata": {},
   "outputs": [
    {
     "data": {
      "text/plain": [
       "True"
      ]
     },
     "execution_count": 32,
     "metadata": {},
     "output_type": "execute_result"
    }
   ],
   "source": [
    "# r.zadd('number1',{'1':'1','2':'2','3':'3'})\n",
    "# r.zadd('number2',{'1':'2','2':'2','3':'3'})\n",
    "r.zadd('number2',{'1':'8'})\n",
    "r.save()"
   ]
  },
  {
   "cell_type": "code",
   "execution_count": 5,
   "metadata": {},
   "outputs": [
    {
     "data": {
      "text/plain": [
       "1"
      ]
     },
     "execution_count": 5,
     "metadata": {},
     "output_type": "execute_result"
    }
   ],
   "source": [
    "r.zadd('number7',{'1':'1'})"
   ]
  },
  {
   "cell_type": "code",
   "execution_count": 6,
   "metadata": {},
   "outputs": [
    {
     "data": {
      "text/plain": [
       "3"
      ]
     },
     "execution_count": 6,
     "metadata": {},
     "output_type": "execute_result"
    }
   ],
   "source": [
    "r.zadd('number8',{'1':'5','2':'2','3':'3'})\n"
   ]
  },
  {
   "cell_type": "code",
   "execution_count": 1,
   "metadata": {},
   "outputs": [],
   "source": [
    "class a():\n",
    "    def __init__(self,name):\n",
    "        self.name=name\n",
    "        \n",
    "class b(a):\n",
    "    cc=1"
   ]
  },
  {
   "cell_type": "code",
   "execution_count": 18,
   "metadata": {},
   "outputs": [
    {
     "name": "stdout",
     "output_type": "stream",
     "text": [
      "b'2'\n",
      "2\n",
      "b'3'\n",
      "3\n",
      "b'1'\n",
      "1\n"
     ]
    }
   ],
   "source": [
    "b=b()"
   ]
  },
  {
   "cell_type": "code",
   "execution_count": 30,
   "metadata": {},
   "outputs": [
    {
     "data": {
      "text/plain": [
       "'tmp_1 2 3'"
      ]
     },
     "execution_count": 30,
     "metadata": {},
     "output_type": "execute_result"
    }
   ],
   "source": []
  },
  {
   "cell_type": "code",
   "execution_count": 35,
   "metadata": {},
   "outputs": [
    {
     "data": {
      "text/plain": [
       "b'cailol'"
      ]
     },
     "execution_count": 35,
     "metadata": {},
     "output_type": "execute_result"
    }
   ],
   "source": []
  },
  {
   "cell_type": "code",
   "execution_count": 22,
   "metadata": {},
   "outputs": [],
   "source": [
    "ids=['1','2','3','4']\n",
    "for product_id in ids:\n",
    "     for with_id in ids:\n",
    " # get the other products bought with each product\n",
    "            if product_id != with_id:\n",
    "            # increment score for product purchased together\n",
    "                r.zincrby(product_id,1,with_id)"
   ]
  },
  {
   "cell_type": "code",
   "execution_count": null,
   "metadata": {},
   "outputs": [],
   "source": [
    "for x in r.zrange('1',0,-1):\n",
    "    print(r.zscore('1',x))"
   ]
  },
  {
   "cell_type": "code",
   "execution_count": 24,
   "metadata": {},
   "outputs": [
    {
     "data": {
      "text/plain": [
       "4"
      ]
     },
     "execution_count": 24,
     "metadata": {},
     "output_type": "execute_result"
    }
   ],
   "source": [
    "r.zunionstore('tmp_key', ids)"
   ]
  },
  {
   "cell_type": "code",
   "execution_count": 3,
   "metadata": {},
   "outputs": [
    {
     "name": "stdout",
     "output_type": "stream",
     "text": [
      "1\n"
     ]
    }
   ],
   "source": [
    "def x(**kwagrgs):\n",
    "    print(kwagrgs['a'])\n",
    "    \n",
    "x(a=1,b=2)"
   ]
  },
  {
   "cell_type": "code",
   "execution_count": 23,
   "metadata": {},
   "outputs": [],
   "source": [
    "import cv2 \n",
    "\n",
    "video=cv2.VideoCapture(0)\n",
    "while True:\n",
    "    ret,img=video.read()\n",
    "    img_reverse=cv2.flip(img,1)\n",
    "    cv2.imshow(\"w1\",img)\n",
    "    cv2.imshow(\"w2\",img_reverse)\n",
    "    if cv2.waitKey(1)==ord(\"q\"):\n",
    "        break\n",
    "cv2.destroyAllWindows()\n",
    "video.release()"
   ]
  },
  {
   "cell_type": "code",
   "execution_count": 22,
   "metadata": {},
   "outputs": [
    {
     "name": "stdout",
     "output_type": "stream",
     "text": [
      "3 4\n"
     ]
    },
    {
     "data": {
      "text/plain": [
       "0.75"
      ]
     },
     "execution_count": 22,
     "metadata": {},
     "output_type": "execute_result"
    }
   ],
   "source": [
    "def smart_divide(context):\n",
    "    def decorator(func):\n",
    "        def inner(*kwargs):\n",
    "                print(*kwargs)\n",
    "                return func(*kwargs)\n",
    "        return inner\n",
    "    return decorator\n",
    "\n",
    "@smart_divide(context=\"cuts\")\n",
    "def divide(a,b):\n",
    "    return a/b\n",
    "divide(3,4)"
   ]
  },
  {
   "cell_type": "code",
   "execution_count": null,
   "metadata": {},
   "outputs": [],
   "source": [
    "<link rel=\"stylesheet\" href=\"vendors/feather/feather.css\">\n",
    "  <link rel=\"stylesheet\" href=\"vendors/mdi/css/materialdesignicons.min.css\">\n",
    "  <link rel=\"stylesheet\" href=\"vendors/ti-icons/css/themify-icons.css\">\n",
    "  <link rel=\"stylesheet\" href=\"vendors/typicons/typicons.css\">\n",
    "  <link rel=\"stylesheet\" href=\"vendors/simple-line-icons/css/simple-line-icons.css\">\n",
    "  <link rel=\"stylesheet\" href=\"vendors/css/vendor.bundle.base.css\">"
   ]
  }
 ],
 "metadata": {
  "interpreter": {
   "hash": "684b1123683431d89d3bfe9a89cc763215f4b8cd94b4aba1fb40ad45ff7c8b41"
  },
  "kernelspec": {
   "display_name": "Python 3.7.9 64-bit",
   "language": "python",
   "name": "python3"
  },
  "language_info": {
   "codemirror_mode": {
    "name": "ipython",
    "version": 3
   },
   "file_extension": ".py",
   "mimetype": "text/x-python",
   "name": "python",
   "nbconvert_exporter": "python",
   "pygments_lexer": "ipython3",
   "version": "3.7.9"
  },
  "orig_nbformat": 4
 },
 "nbformat": 4,
 "nbformat_minor": 2
}
